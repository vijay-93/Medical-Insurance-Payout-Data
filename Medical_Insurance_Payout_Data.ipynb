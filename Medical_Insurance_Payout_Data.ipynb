{
  "nbformat": 4,
  "nbformat_minor": 0,
  "metadata": {
    "colab": {
      "name": "Medical Insurance Payout Data.ipynb",
      "provenance": [],
      "authorship_tag": "ABX9TyP7ov+hqTn+rUl6fRWb2Vaq",
      "include_colab_link": true
    },
    "kernelspec": {
      "name": "python3",
      "display_name": "Python 3"
    },
    "language_info": {
      "name": "python"
    }
  },
  "cells": [
    {
      "cell_type": "markdown",
      "metadata": {
        "id": "view-in-github",
        "colab_type": "text"
      },
      "source": [
        "<a href=\"https://colab.research.google.com/github/vijay-93/Medical-Insurance-Payout-Data/blob/main/Medical_Insurance_Payout_Data.ipynb\" target=\"_parent\"><img src=\"https://colab.research.google.com/assets/colab-badge.svg\" alt=\"Open In Colab\"/></a>"
      ]
    },
    {
      "cell_type": "markdown",
      "source": [
        "#Medical Insurance Payout\n",
        "\n",
        "About Dataset\n",
        "\n",
        "ACME Insurance Inc. offers affordable health insurance to thousands of customer all over the United States. You're tasked with creating an automated system to estimate the annual medical expenditure for new customers, using information such as their age, sex, BMI, children, smoking habits and region of residence.\n",
        "\n",
        "Estimates from your system will be used to determine the annual insurance premium (amount paid every month) offered to the customer.\n",
        "\n",
        "\n"
      ],
      "metadata": {
        "id": "zDRkN8xF8xb9"
      }
    },
    {
      "cell_type": "code",
      "execution_count": 2,
      "metadata": {
        "id": "1krKoEUS8bto"
      },
      "outputs": [],
      "source": [
        "#Step-1- We are Importing Useful Libraries\n",
        "import pandas as pd\n",
        "import numpy as np\n",
        "import seaborn as sns\n",
        "from sklearn import preprocessing\n",
        "from sklearn.linear_model import LinearRegression\n",
        "from sklearn.model_selection import train_test_split\n"
      ]
    },
    {
      "cell_type": "code",
      "source": [
        "#Step-2 Upload Data\n",
        "df=pd.read_csv('expenses.csv')"
      ],
      "metadata": {
        "id": "_hoJS0dN9o7K"
      },
      "execution_count": 3,
      "outputs": []
    },
    {
      "cell_type": "code",
      "source": [
        "df.head()"
      ],
      "metadata": {
        "colab": {
          "base_uri": "https://localhost:8080/",
          "height": 206
        },
        "id": "6QnWyo1S9tey",
        "outputId": "ad3de934-bf3a-4e1f-cbf8-a84a5280bbd0"
      },
      "execution_count": 4,
      "outputs": [
        {
          "output_type": "execute_result",
          "data": {
            "text/plain": [
              "   age     sex     bmi  children smoker     region      charges\n",
              "0   19  female  27.900         0    yes  southwest  16884.92400\n",
              "1   18    male  33.770         1     no  southeast   1725.55230\n",
              "2   28    male  33.000         3     no  southeast   4449.46200\n",
              "3   33    male  22.705         0     no  northwest  21984.47061\n",
              "4   32    male  28.880         0     no  northwest   3866.85520"
            ],
            "text/html": [
              "\n",
              "  <div id=\"df-3abbf85a-f352-4611-aac2-828981275edf\">\n",
              "    <div class=\"colab-df-container\">\n",
              "      <div>\n",
              "<style scoped>\n",
              "    .dataframe tbody tr th:only-of-type {\n",
              "        vertical-align: middle;\n",
              "    }\n",
              "\n",
              "    .dataframe tbody tr th {\n",
              "        vertical-align: top;\n",
              "    }\n",
              "\n",
              "    .dataframe thead th {\n",
              "        text-align: right;\n",
              "    }\n",
              "</style>\n",
              "<table border=\"1\" class=\"dataframe\">\n",
              "  <thead>\n",
              "    <tr style=\"text-align: right;\">\n",
              "      <th></th>\n",
              "      <th>age</th>\n",
              "      <th>sex</th>\n",
              "      <th>bmi</th>\n",
              "      <th>children</th>\n",
              "      <th>smoker</th>\n",
              "      <th>region</th>\n",
              "      <th>charges</th>\n",
              "    </tr>\n",
              "  </thead>\n",
              "  <tbody>\n",
              "    <tr>\n",
              "      <th>0</th>\n",
              "      <td>19</td>\n",
              "      <td>female</td>\n",
              "      <td>27.900</td>\n",
              "      <td>0</td>\n",
              "      <td>yes</td>\n",
              "      <td>southwest</td>\n",
              "      <td>16884.92400</td>\n",
              "    </tr>\n",
              "    <tr>\n",
              "      <th>1</th>\n",
              "      <td>18</td>\n",
              "      <td>male</td>\n",
              "      <td>33.770</td>\n",
              "      <td>1</td>\n",
              "      <td>no</td>\n",
              "      <td>southeast</td>\n",
              "      <td>1725.55230</td>\n",
              "    </tr>\n",
              "    <tr>\n",
              "      <th>2</th>\n",
              "      <td>28</td>\n",
              "      <td>male</td>\n",
              "      <td>33.000</td>\n",
              "      <td>3</td>\n",
              "      <td>no</td>\n",
              "      <td>southeast</td>\n",
              "      <td>4449.46200</td>\n",
              "    </tr>\n",
              "    <tr>\n",
              "      <th>3</th>\n",
              "      <td>33</td>\n",
              "      <td>male</td>\n",
              "      <td>22.705</td>\n",
              "      <td>0</td>\n",
              "      <td>no</td>\n",
              "      <td>northwest</td>\n",
              "      <td>21984.47061</td>\n",
              "    </tr>\n",
              "    <tr>\n",
              "      <th>4</th>\n",
              "      <td>32</td>\n",
              "      <td>male</td>\n",
              "      <td>28.880</td>\n",
              "      <td>0</td>\n",
              "      <td>no</td>\n",
              "      <td>northwest</td>\n",
              "      <td>3866.85520</td>\n",
              "    </tr>\n",
              "  </tbody>\n",
              "</table>\n",
              "</div>\n",
              "      <button class=\"colab-df-convert\" onclick=\"convertToInteractive('df-3abbf85a-f352-4611-aac2-828981275edf')\"\n",
              "              title=\"Convert this dataframe to an interactive table.\"\n",
              "              style=\"display:none;\">\n",
              "        \n",
              "  <svg xmlns=\"http://www.w3.org/2000/svg\" height=\"24px\"viewBox=\"0 0 24 24\"\n",
              "       width=\"24px\">\n",
              "    <path d=\"M0 0h24v24H0V0z\" fill=\"none\"/>\n",
              "    <path d=\"M18.56 5.44l.94 2.06.94-2.06 2.06-.94-2.06-.94-.94-2.06-.94 2.06-2.06.94zm-11 1L8.5 8.5l.94-2.06 2.06-.94-2.06-.94L8.5 2.5l-.94 2.06-2.06.94zm10 10l.94 2.06.94-2.06 2.06-.94-2.06-.94-.94-2.06-.94 2.06-2.06.94z\"/><path d=\"M17.41 7.96l-1.37-1.37c-.4-.4-.92-.59-1.43-.59-.52 0-1.04.2-1.43.59L10.3 9.45l-7.72 7.72c-.78.78-.78 2.05 0 2.83L4 21.41c.39.39.9.59 1.41.59.51 0 1.02-.2 1.41-.59l7.78-7.78 2.81-2.81c.8-.78.8-2.07 0-2.86zM5.41 20L4 18.59l7.72-7.72 1.47 1.35L5.41 20z\"/>\n",
              "  </svg>\n",
              "      </button>\n",
              "      \n",
              "  <style>\n",
              "    .colab-df-container {\n",
              "      display:flex;\n",
              "      flex-wrap:wrap;\n",
              "      gap: 12px;\n",
              "    }\n",
              "\n",
              "    .colab-df-convert {\n",
              "      background-color: #E8F0FE;\n",
              "      border: none;\n",
              "      border-radius: 50%;\n",
              "      cursor: pointer;\n",
              "      display: none;\n",
              "      fill: #1967D2;\n",
              "      height: 32px;\n",
              "      padding: 0 0 0 0;\n",
              "      width: 32px;\n",
              "    }\n",
              "\n",
              "    .colab-df-convert:hover {\n",
              "      background-color: #E2EBFA;\n",
              "      box-shadow: 0px 1px 2px rgba(60, 64, 67, 0.3), 0px 1px 3px 1px rgba(60, 64, 67, 0.15);\n",
              "      fill: #174EA6;\n",
              "    }\n",
              "\n",
              "    [theme=dark] .colab-df-convert {\n",
              "      background-color: #3B4455;\n",
              "      fill: #D2E3FC;\n",
              "    }\n",
              "\n",
              "    [theme=dark] .colab-df-convert:hover {\n",
              "      background-color: #434B5C;\n",
              "      box-shadow: 0px 1px 3px 1px rgba(0, 0, 0, 0.15);\n",
              "      filter: drop-shadow(0px 1px 2px rgba(0, 0, 0, 0.3));\n",
              "      fill: #FFFFFF;\n",
              "    }\n",
              "  </style>\n",
              "\n",
              "      <script>\n",
              "        const buttonEl =\n",
              "          document.querySelector('#df-3abbf85a-f352-4611-aac2-828981275edf button.colab-df-convert');\n",
              "        buttonEl.style.display =\n",
              "          google.colab.kernel.accessAllowed ? 'block' : 'none';\n",
              "\n",
              "        async function convertToInteractive(key) {\n",
              "          const element = document.querySelector('#df-3abbf85a-f352-4611-aac2-828981275edf');\n",
              "          const dataTable =\n",
              "            await google.colab.kernel.invokeFunction('convertToInteractive',\n",
              "                                                     [key], {});\n",
              "          if (!dataTable) return;\n",
              "\n",
              "          const docLinkHtml = 'Like what you see? Visit the ' +\n",
              "            '<a target=\"_blank\" href=https://colab.research.google.com/notebooks/data_table.ipynb>data table notebook</a>'\n",
              "            + ' to learn more about interactive tables.';\n",
              "          element.innerHTML = '';\n",
              "          dataTable['output_type'] = 'display_data';\n",
              "          await google.colab.output.renderOutput(dataTable, element);\n",
              "          const docLink = document.createElement('div');\n",
              "          docLink.innerHTML = docLinkHtml;\n",
              "          element.appendChild(docLink);\n",
              "        }\n",
              "      </script>\n",
              "    </div>\n",
              "  </div>\n",
              "  "
            ]
          },
          "metadata": {},
          "execution_count": 4
        }
      ]
    },
    {
      "cell_type": "code",
      "source": [
        "# Check NaN/Null\n",
        "df.isnull().sum()"
      ],
      "metadata": {
        "colab": {
          "base_uri": "https://localhost:8080/"
        },
        "id": "rNlp_7F59zPf",
        "outputId": "cf3f6bb6-b87f-4667-df66-a4ff37f19e5d"
      },
      "execution_count": 5,
      "outputs": [
        {
          "output_type": "execute_result",
          "data": {
            "text/plain": [
              "age         0\n",
              "sex         0\n",
              "bmi         0\n",
              "children    0\n",
              "smoker      0\n",
              "region      0\n",
              "charges     0\n",
              "dtype: int64"
            ]
          },
          "metadata": {},
          "execution_count": 5
        }
      ]
    },
    {
      "cell_type": "code",
      "source": [
        "df.shape"
      ],
      "metadata": {
        "colab": {
          "base_uri": "https://localhost:8080/"
        },
        "id": "tjBae__u93tr",
        "outputId": "f918fa6d-7b3a-4fff-f640-94f6062c3f70"
      },
      "execution_count": 6,
      "outputs": [
        {
          "output_type": "execute_result",
          "data": {
            "text/plain": [
              "(1338, 7)"
            ]
          },
          "metadata": {},
          "execution_count": 6
        }
      ]
    },
    {
      "cell_type": "code",
      "source": [
        "df.info()"
      ],
      "metadata": {
        "colab": {
          "base_uri": "https://localhost:8080/"
        },
        "id": "vE-MDz2x99wK",
        "outputId": "af4698fd-6144-4b61-b63e-7b6d2c6e4b83"
      },
      "execution_count": 7,
      "outputs": [
        {
          "output_type": "stream",
          "name": "stdout",
          "text": [
            "<class 'pandas.core.frame.DataFrame'>\n",
            "RangeIndex: 1338 entries, 0 to 1337\n",
            "Data columns (total 7 columns):\n",
            " #   Column    Non-Null Count  Dtype  \n",
            "---  ------    --------------  -----  \n",
            " 0   age       1338 non-null   int64  \n",
            " 1   sex       1338 non-null   object \n",
            " 2   bmi       1338 non-null   float64\n",
            " 3   children  1338 non-null   int64  \n",
            " 4   smoker    1338 non-null   object \n",
            " 5   region    1338 non-null   object \n",
            " 6   charges   1338 non-null   float64\n",
            "dtypes: float64(2), int64(2), object(3)\n",
            "memory usage: 73.3+ KB\n"
          ]
        }
      ]
    },
    {
      "cell_type": "code",
      "source": [
        "#Converting String/Object data to Int\n",
        "\n",
        "lbl=preprocessing.LabelEncoder()\n",
        "clms=[\"sex\", \"smoker\", \"region\"]\n",
        "for x in clms:\n",
        "    df[x]=lbl.fit_transform(df[x])"
      ],
      "metadata": {
        "id": "yrvO7hKy-C1A"
      },
      "execution_count": 8,
      "outputs": []
    },
    {
      "cell_type": "code",
      "source": [
        "df.head() #check data"
      ],
      "metadata": {
        "colab": {
          "base_uri": "https://localhost:8080/",
          "height": 206
        },
        "id": "62QU6p7i-HJU",
        "outputId": "19fa593a-e3d2-498f-949b-5386b6044020"
      },
      "execution_count": 9,
      "outputs": [
        {
          "output_type": "execute_result",
          "data": {
            "text/plain": [
              "   age  sex     bmi  children  smoker  region      charges\n",
              "0   19    0  27.900         0       1       3  16884.92400\n",
              "1   18    1  33.770         1       0       2   1725.55230\n",
              "2   28    1  33.000         3       0       2   4449.46200\n",
              "3   33    1  22.705         0       0       1  21984.47061\n",
              "4   32    1  28.880         0       0       1   3866.85520"
            ],
            "text/html": [
              "\n",
              "  <div id=\"df-28a87977-c4fa-494a-b0c5-42cf0360e89d\">\n",
              "    <div class=\"colab-df-container\">\n",
              "      <div>\n",
              "<style scoped>\n",
              "    .dataframe tbody tr th:only-of-type {\n",
              "        vertical-align: middle;\n",
              "    }\n",
              "\n",
              "    .dataframe tbody tr th {\n",
              "        vertical-align: top;\n",
              "    }\n",
              "\n",
              "    .dataframe thead th {\n",
              "        text-align: right;\n",
              "    }\n",
              "</style>\n",
              "<table border=\"1\" class=\"dataframe\">\n",
              "  <thead>\n",
              "    <tr style=\"text-align: right;\">\n",
              "      <th></th>\n",
              "      <th>age</th>\n",
              "      <th>sex</th>\n",
              "      <th>bmi</th>\n",
              "      <th>children</th>\n",
              "      <th>smoker</th>\n",
              "      <th>region</th>\n",
              "      <th>charges</th>\n",
              "    </tr>\n",
              "  </thead>\n",
              "  <tbody>\n",
              "    <tr>\n",
              "      <th>0</th>\n",
              "      <td>19</td>\n",
              "      <td>0</td>\n",
              "      <td>27.900</td>\n",
              "      <td>0</td>\n",
              "      <td>1</td>\n",
              "      <td>3</td>\n",
              "      <td>16884.92400</td>\n",
              "    </tr>\n",
              "    <tr>\n",
              "      <th>1</th>\n",
              "      <td>18</td>\n",
              "      <td>1</td>\n",
              "      <td>33.770</td>\n",
              "      <td>1</td>\n",
              "      <td>0</td>\n",
              "      <td>2</td>\n",
              "      <td>1725.55230</td>\n",
              "    </tr>\n",
              "    <tr>\n",
              "      <th>2</th>\n",
              "      <td>28</td>\n",
              "      <td>1</td>\n",
              "      <td>33.000</td>\n",
              "      <td>3</td>\n",
              "      <td>0</td>\n",
              "      <td>2</td>\n",
              "      <td>4449.46200</td>\n",
              "    </tr>\n",
              "    <tr>\n",
              "      <th>3</th>\n",
              "      <td>33</td>\n",
              "      <td>1</td>\n",
              "      <td>22.705</td>\n",
              "      <td>0</td>\n",
              "      <td>0</td>\n",
              "      <td>1</td>\n",
              "      <td>21984.47061</td>\n",
              "    </tr>\n",
              "    <tr>\n",
              "      <th>4</th>\n",
              "      <td>32</td>\n",
              "      <td>1</td>\n",
              "      <td>28.880</td>\n",
              "      <td>0</td>\n",
              "      <td>0</td>\n",
              "      <td>1</td>\n",
              "      <td>3866.85520</td>\n",
              "    </tr>\n",
              "  </tbody>\n",
              "</table>\n",
              "</div>\n",
              "      <button class=\"colab-df-convert\" onclick=\"convertToInteractive('df-28a87977-c4fa-494a-b0c5-42cf0360e89d')\"\n",
              "              title=\"Convert this dataframe to an interactive table.\"\n",
              "              style=\"display:none;\">\n",
              "        \n",
              "  <svg xmlns=\"http://www.w3.org/2000/svg\" height=\"24px\"viewBox=\"0 0 24 24\"\n",
              "       width=\"24px\">\n",
              "    <path d=\"M0 0h24v24H0V0z\" fill=\"none\"/>\n",
              "    <path d=\"M18.56 5.44l.94 2.06.94-2.06 2.06-.94-2.06-.94-.94-2.06-.94 2.06-2.06.94zm-11 1L8.5 8.5l.94-2.06 2.06-.94-2.06-.94L8.5 2.5l-.94 2.06-2.06.94zm10 10l.94 2.06.94-2.06 2.06-.94-2.06-.94-.94-2.06-.94 2.06-2.06.94z\"/><path d=\"M17.41 7.96l-1.37-1.37c-.4-.4-.92-.59-1.43-.59-.52 0-1.04.2-1.43.59L10.3 9.45l-7.72 7.72c-.78.78-.78 2.05 0 2.83L4 21.41c.39.39.9.59 1.41.59.51 0 1.02-.2 1.41-.59l7.78-7.78 2.81-2.81c.8-.78.8-2.07 0-2.86zM5.41 20L4 18.59l7.72-7.72 1.47 1.35L5.41 20z\"/>\n",
              "  </svg>\n",
              "      </button>\n",
              "      \n",
              "  <style>\n",
              "    .colab-df-container {\n",
              "      display:flex;\n",
              "      flex-wrap:wrap;\n",
              "      gap: 12px;\n",
              "    }\n",
              "\n",
              "    .colab-df-convert {\n",
              "      background-color: #E8F0FE;\n",
              "      border: none;\n",
              "      border-radius: 50%;\n",
              "      cursor: pointer;\n",
              "      display: none;\n",
              "      fill: #1967D2;\n",
              "      height: 32px;\n",
              "      padding: 0 0 0 0;\n",
              "      width: 32px;\n",
              "    }\n",
              "\n",
              "    .colab-df-convert:hover {\n",
              "      background-color: #E2EBFA;\n",
              "      box-shadow: 0px 1px 2px rgba(60, 64, 67, 0.3), 0px 1px 3px 1px rgba(60, 64, 67, 0.15);\n",
              "      fill: #174EA6;\n",
              "    }\n",
              "\n",
              "    [theme=dark] .colab-df-convert {\n",
              "      background-color: #3B4455;\n",
              "      fill: #D2E3FC;\n",
              "    }\n",
              "\n",
              "    [theme=dark] .colab-df-convert:hover {\n",
              "      background-color: #434B5C;\n",
              "      box-shadow: 0px 1px 3px 1px rgba(0, 0, 0, 0.15);\n",
              "      filter: drop-shadow(0px 1px 2px rgba(0, 0, 0, 0.3));\n",
              "      fill: #FFFFFF;\n",
              "    }\n",
              "  </style>\n",
              "\n",
              "      <script>\n",
              "        const buttonEl =\n",
              "          document.querySelector('#df-28a87977-c4fa-494a-b0c5-42cf0360e89d button.colab-df-convert');\n",
              "        buttonEl.style.display =\n",
              "          google.colab.kernel.accessAllowed ? 'block' : 'none';\n",
              "\n",
              "        async function convertToInteractive(key) {\n",
              "          const element = document.querySelector('#df-28a87977-c4fa-494a-b0c5-42cf0360e89d');\n",
              "          const dataTable =\n",
              "            await google.colab.kernel.invokeFunction('convertToInteractive',\n",
              "                                                     [key], {});\n",
              "          if (!dataTable) return;\n",
              "\n",
              "          const docLinkHtml = 'Like what you see? Visit the ' +\n",
              "            '<a target=\"_blank\" href=https://colab.research.google.com/notebooks/data_table.ipynb>data table notebook</a>'\n",
              "            + ' to learn more about interactive tables.';\n",
              "          element.innerHTML = '';\n",
              "          dataTable['output_type'] = 'display_data';\n",
              "          await google.colab.output.renderOutput(dataTable, element);\n",
              "          const docLink = document.createElement('div');\n",
              "          docLink.innerHTML = docLinkHtml;\n",
              "          element.appendChild(docLink);\n",
              "        }\n",
              "      </script>\n",
              "    </div>\n",
              "  </div>\n",
              "  "
            ]
          },
          "metadata": {},
          "execution_count": 9
        }
      ]
    },
    {
      "cell_type": "code",
      "source": [
        "#Defining Data for Train & Test\n",
        "x=df.drop(\"charges\", axis=\"columns\")\n",
        "y=df[\"charges\"]"
      ],
      "metadata": {
        "id": "sczISlhl-N5k"
      },
      "execution_count": 10,
      "outputs": []
    },
    {
      "cell_type": "code",
      "source": [
        "#Train_Test_Split Data\n",
        "xtrain,xtest,ytrain,ytest=train_test_split(x,y,test_size=0.3)"
      ],
      "metadata": {
        "id": "KsiTOlj0-XZW"
      },
      "execution_count": 11,
      "outputs": []
    },
    {
      "cell_type": "code",
      "source": [
        "#Linear Model\n",
        "model=LinearRegression()"
      ],
      "metadata": {
        "id": "5nQc2gsT-cMI"
      },
      "execution_count": 12,
      "outputs": []
    },
    {
      "cell_type": "code",
      "source": [
        "#Train MOdel\n",
        "model.fit(xtrain,ytrain)"
      ],
      "metadata": {
        "colab": {
          "base_uri": "https://localhost:8080/"
        },
        "id": "hxSu-OJ5-fzi",
        "outputId": "11dee5d3-80fe-40b6-efad-82b49d720e35"
      },
      "execution_count": 13,
      "outputs": [
        {
          "output_type": "execute_result",
          "data": {
            "text/plain": [
              "LinearRegression()"
            ]
          },
          "metadata": {},
          "execution_count": 13
        }
      ]
    },
    {
      "cell_type": "code",
      "source": [
        "LinearRegression()"
      ],
      "metadata": {
        "colab": {
          "base_uri": "https://localhost:8080/"
        },
        "id": "RseUxIoE-jS_",
        "outputId": "395d3992-9b94-48f4-e8d6-c782af3263da"
      },
      "execution_count": 14,
      "outputs": [
        {
          "output_type": "execute_result",
          "data": {
            "text/plain": [
              "LinearRegression()"
            ]
          },
          "metadata": {},
          "execution_count": 14
        }
      ]
    },
    {
      "cell_type": "code",
      "source": [
        "#Score\n",
        "model.score(xtest,ytest)"
      ],
      "metadata": {
        "colab": {
          "base_uri": "https://localhost:8080/"
        },
        "id": "_XhSGbHS-l_f",
        "outputId": "97143a70-43e7-43f4-af11-a43bb77b42a8"
      },
      "execution_count": 15,
      "outputs": [
        {
          "output_type": "execute_result",
          "data": {
            "text/plain": [
              "0.7712524377226581"
            ]
          },
          "metadata": {},
          "execution_count": 15
        }
      ]
    },
    {
      "cell_type": "code",
      "source": [
        "#Predict\n",
        "model.predict(xtest)"
      ],
      "metadata": {
        "colab": {
          "base_uri": "https://localhost:8080/"
        },
        "id": "p8NH-7nK-tJ1",
        "outputId": "be10ff91-213e-4ac4-af04-1b37de85f78a"
      },
      "execution_count": 16,
      "outputs": [
        {
          "output_type": "execute_result",
          "data": {
            "text/plain": [
              "array([ 6763.92252644,  7633.0065468 ,  2844.67189565, 12433.46983759,\n",
              "        6742.76394529, 13758.11468459,  6129.49697447,  6920.1574116 ,\n",
              "         419.58316896, 14115.34120141,  5074.01343182,  2905.37852801,\n",
              "       29331.1374091 , 13991.67490285,  8542.41286701,  8224.35668685,\n",
              "       11375.59561545, 31033.59088121,  6298.99546908,  5737.7248335 ,\n",
              "       28180.03795766, 12857.9088488 , 15166.16442099, 15953.57156058,\n",
              "        4036.74085429,  7647.05174951,  9104.05848838,  9967.60456324,\n",
              "       12928.18844768, 12205.03028256, 25837.59003182, 11747.87664512,\n",
              "        6656.48575036,  9752.67368186, 12700.56677312, 29878.15971899,\n",
              "       13667.69546095,  9892.27322935, 12458.00215895,  7453.09032426,\n",
              "        3439.60827512,  5655.65516165,  9289.30412194,  5520.61770495,\n",
              "        7384.4185372 , 11175.73088098, 10321.07683651,  2143.28481133,\n",
              "        8195.22854591, 13433.79246543, 11263.19753708, 12493.32804102,\n",
              "        9698.89364468, 38203.54219402,  6514.37899408,  3944.05033152,\n",
              "       15309.91465099, 27382.09762314,  8109.62098839, 12252.70787979,\n",
              "       12201.22257181,   407.15635438, 34873.52367277,  7274.02076453,\n",
              "       11590.41162761, 38631.08622948, 11737.02293466,  8170.64090731,\n",
              "        3672.2091086 ,  4852.64409885,  5513.90276536,  3038.37077616,\n",
              "        1413.05590524, 38374.0040623 , 31075.26793494,  8688.7830474 ,\n",
              "       28262.84344704,  5423.10493976,  3561.17098149, 37972.90059282,\n",
              "       26460.30757374, 35011.05885144, 10462.2152676 ,  7105.25808747,\n",
              "        3659.98474037, 36697.55215859,  6464.69511446,  8939.47489506,\n",
              "       12390.85451996, 17325.82643156, 10435.46809764, 11591.94635198,\n",
              "       39198.55527947,   -44.47458779,  5247.3741863 , 26824.93814949,\n",
              "       32593.64585879,  2380.6299322 , 31128.87300449,  8980.87763975,\n",
              "        4367.95379257, 14229.04119596,  5978.07459906, -1274.83996326,\n",
              "       26732.51660818,  9565.92004544,  6756.76828872, 18832.17204668,\n",
              "       34286.25188499, 10709.68801407, 23923.3784975 , 11757.51612712,\n",
              "        2500.64628013, 11870.18935815, 30532.5424019 ,  9339.47864885,\n",
              "        5501.14295754,  4566.01425062, 11408.18844403, 39683.51842923,\n",
              "        1769.73918292,  8243.42439937,  5894.93171135,   806.02179104,\n",
              "       13558.4031991 , 13507.29897261, 13538.92845169, 11746.18701624,\n",
              "        2963.2552888 , 30271.57318644, 13429.41702769,  7814.84612556,\n",
              "        7203.71920113, 10349.39259492,  8528.35652195, 25686.2783664 ,\n",
              "        5810.76953497, 15970.10567508,  7508.98944973, 32014.70559584,\n",
              "       11369.78227142,  5414.94818051, 33795.75155029, 28055.40058889,\n",
              "       31383.00290468,  8269.57461713, 13384.56984846,  9242.75114444,\n",
              "        7145.08104547, 14843.30128035,  8538.38482576,  5856.37664351,\n",
              "        6961.10813461,  5030.30935088,  7393.48218789, 11453.6589647 ,\n",
              "       11321.60889382, 39004.70586783,  -304.20951166,  9004.36115757,\n",
              "       13050.84578802,  3062.9999156 ,  8480.52587026,  8749.67633281,\n",
              "        6317.44345298, 12242.60082866,  1780.98538725, 38851.46361722,\n",
              "       11692.69933924, 14939.94088291, 15966.30179883,  6247.50709135,\n",
              "       14377.62622496, 30054.30473632,  7215.46080976, 10839.69322829,\n",
              "       29126.11852847, 11232.29770433,  6211.56333071, 40305.58033476,\n",
              "       24472.78983134, 30723.01772143,  8098.79567914, 11583.77097554,\n",
              "        7173.07666442, 14777.84418939,  1510.78652895, 27891.75300162,\n",
              "       11561.5978627 , 25929.58119123, 25108.54257961,  6468.70396039,\n",
              "       17089.04319874,  7200.39379505,  9170.88843572, 16147.94926168,\n",
              "       12257.7612945 , 36440.22512173,   316.85506971,  2009.07914663,\n",
              "       12096.38840838, 12253.91713711, -1279.75616816, 14001.63373203,\n",
              "       10901.77459879,  3337.91525785, 14239.3137279 , 35982.58301596,\n",
              "       11132.64182301,  7962.48756308,  3562.89488224,  8420.67598529,\n",
              "       27425.31263798, 32426.62072853, 11047.86799061, 29083.98504795,\n",
              "       12237.4422774 , 15139.04280829, 10892.93796116,  9807.97253952,\n",
              "       15805.04331438, 14256.12967762, 26048.33875972, 36751.06095648,\n",
              "        4546.51539145,  7703.07755984,  2076.43205585, 10299.65369862,\n",
              "        5422.7900173 , 29310.66177607,  7648.47437385,  9771.64291622,\n",
              "       27635.46889765,  6004.39692885, 14532.479143  ,  2907.01699889,\n",
              "        7453.24131539, 31531.00201779, 34527.28152893, 12467.17094618,\n",
              "        2473.12942854,  3647.87091513, 10316.88826596,  5671.69294936,\n",
              "       10232.87104726,  8193.44601231, 11643.01189816,  2872.57675715,\n",
              "        8694.16021439,  4080.89505552, 14447.4089857 , 26202.57165194,\n",
              "       33128.61142344, 11793.8687727 ,  3614.52954545, 24561.94948327,\n",
              "        4290.92804863, 35139.34317996,  1032.65731552,  6206.58164847,\n",
              "       11276.41377167,  7204.4883714 , 32541.19472933, 25140.20902423,\n",
              "        9840.64604097,  5665.63002999, 35922.64025045, 17894.57114377,\n",
              "        2598.49845562,   724.05535435, 13973.40941277, 12794.9786733 ,\n",
              "       30557.6872229 ,  5739.87151109,  8994.74426202, 10754.86818654,\n",
              "       12175.54302464, 40022.53960572,  6963.79117428,  9224.96333224,\n",
              "        9395.84987876, 35117.46525119,  5092.65029488, 16060.47844636,\n",
              "       10217.70617633,  6453.53656612,  7167.98212494, 10474.82563377,\n",
              "       10064.08279287, 10515.39133774, 12942.96946794,  2629.87895712,\n",
              "       35014.85623174, 13686.23273674,  4501.96448576, 13809.98299962,\n",
              "       11680.35127197,  6218.85545994, 32514.69069801,  2411.25050439,\n",
              "       13177.08213879,  9122.0535828 , 10471.98567761,  6998.61249751,\n",
              "        9311.08137394,  3636.28646885,  7877.55260361,  9937.49115963,\n",
              "       29400.52351674, 10402.36399259, 13062.20854882,  2042.78025522,\n",
              "       14980.42531625, 12320.69978847, 32898.43489221,  6882.81135523,\n",
              "        8089.85306889,  1160.55031852, 11522.07093239,  7250.28797193,\n",
              "       13961.41075396,  5749.97024376,  8264.43803038, 11437.60832322,\n",
              "        4956.03813322,  6416.91708634, 31387.04203359,  4501.32157293,\n",
              "       27827.05284909, 12621.41215686, 11059.97320018,  2485.30642193,\n",
              "       33721.85064785,  4174.55118562, 31189.15458253,  4420.90401801,\n",
              "        5917.53676312,  3772.56006383,  5572.69191215, 35329.70477444,\n",
              "        8503.69177194,  3043.707662  , 12365.37695159, 13470.22306605,\n",
              "        1603.71738609, 13926.84064197,  2265.02169305,  7956.76682656,\n",
              "        3724.4235165 ,  6729.88817876,  9270.08751419, 10613.64492334,\n",
              "         589.11471573, 11850.94630193, 38272.74751927, 14409.29266957,\n",
              "        4858.01740717, 11510.64139061,  4042.47830661,  9665.39367881,\n",
              "        4020.18426393, 10874.40601295,  3803.86130668,  7915.83251879,\n",
              "       32722.26875399, 11190.0429179 , 16494.59080364,  4056.02894865,\n",
              "        2489.54250261, 27175.4689187 , 13260.11632848,  3186.64504193,\n",
              "        9826.48167959,  2605.9975665 , 11260.97815317, 26788.52124627,\n",
              "        5583.28104625,  5188.4998555 , 26672.14568689, 10265.39070197,\n",
              "       35871.87874987, 13044.56425292,  5409.7821544 , 25600.66211435,\n",
              "        5743.88174706,  9044.15076285,  4444.29965814,  9178.96729129,\n",
              "        8295.75318477, 14443.38233449,  7450.17325669, 26743.73416544,\n",
              "        8719.88784982, 33882.31022547,  1908.59538667,   588.07963376,\n",
              "        7482.84675815, 11775.59912338,  6348.07364726, 11830.57392822,\n",
              "        5993.30625096,  9866.68193593])"
            ]
          },
          "metadata": {},
          "execution_count": 16
        }
      ]
    },
    {
      "cell_type": "code",
      "source": [
        "#More Insights about Data\n",
        "max(df[\"age\"])   #Maximum Age, who Enrolled for Medical Insurance\n",
        "min(df[\"age\"])   #Minimum Age, who Enrolled for Medical Insurance\n",
        "df[\"age\"].value_counts() #Number of Person Age wise, Enrolled for Medical Insurance\n",
        "df[\"sex\"].value_counts() #Number of Person Gender wise, Enrolled for Medical Insurance\n",
        "df[\"smoker\"].value_counts() #Number of Person Smoke Category wise, Enrolled for Medical Insurance\n",
        "df[\"children\"].value_counts() #Number of Person Region wise, Enrolled for Medical Insurance"
      ],
      "metadata": {
        "colab": {
          "base_uri": "https://localhost:8080/"
        },
        "id": "1X_P8sY5-1JC",
        "outputId": "ff1a7d3c-25bd-4b28-a28c-61fb6b408676"
      },
      "execution_count": 17,
      "outputs": [
        {
          "output_type": "execute_result",
          "data": {
            "text/plain": [
              "0    574\n",
              "1    324\n",
              "2    240\n",
              "3    157\n",
              "4     25\n",
              "5     18\n",
              "Name: children, dtype: int64"
            ]
          },
          "metadata": {},
          "execution_count": 17
        }
      ]
    }
  ]
}